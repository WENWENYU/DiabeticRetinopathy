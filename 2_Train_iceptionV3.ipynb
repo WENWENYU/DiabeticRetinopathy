{
 "cells": [
  {
   "cell_type": "code",
   "execution_count": 1,
   "metadata": {},
   "outputs": [
    {
     "name": "stderr",
     "output_type": "stream",
     "text": [
      "Using TensorFlow backend.\n"
     ]
    }
   ],
   "source": [
    "import keras\n",
    "import pandas as pd\n",
    "from glob import glob\n",
    "import os\n",
    "import cv2\n",
    "import numpy as np\n",
    "from collections import Counter\n",
    "import matplotlib.pyplot as plt\n",
    "%matplotlib inline\n",
    "\n",
    "preprocess_path = \"../input/512/\"\n",
    "train_files = glob(os.path.join(preprocess_path, \"train/*jpeg\"))\n",
    "\n",
    "df = pd.read_csv(\"../input/trainLabels.csv\")"
   ]
  },
  {
   "cell_type": "code",
   "execution_count": 2,
   "metadata": {
    "collapsed": true
   },
   "outputs": [],
   "source": [
    "img_height = 299\n",
    "img_width = 299\n",
    "from imgaug import augmenters as iaa\n",
    "\n",
    "seq = iaa.Sequential(\n",
    "    [\n",
    "        iaa.Fliplr(0.2), # horizontally flip 50% of all images\n",
    "        iaa.Affine(\n",
    "            scale=(0.9, 1.1),\n",
    "            rotate=(-180, 180), # rotate by -180 to +180 degrees\n",
    "        ),\n",
    "    ],\n",
    "    random_order=True\n",
    ")\n",
    "def get_level(file, df):\n",
    "    basename = os.path.basename(file)\n",
    "    image_id = basename.split(\".\")[0]\n",
    "\n",
    "    mini_df = df[df['image'] == image_id]\n",
    "    if len(mini_df) < 1:\n",
    "        return None\n",
    "\n",
    "    return mini_df.values[0][1]\n",
    "\n",
    "# Example: 1 -> [0, 1, 0, 0, 0]\n",
    "def get_onehot(level):\n",
    "    level_vec = np.zeros(5)\n",
    "    level_vec[level] = 1\n",
    "    \n",
    "    return level_vec\n",
    "from keras.utils.data_utils import Sequence\n",
    "\n",
    "class DataSequence(Sequence):\n",
    "    def __init__(self, file_list, batch_size, augment=False):\n",
    "        self.file_list = file_list\n",
    "        self.batch_size = batch_size\n",
    "        self.augment = augment\n",
    "\n",
    "    def __len__(self):\n",
    "        return len(self.file_list) // self.batch_size\n",
    "\n",
    "    def __getitem__(self, idx):\n",
    "        imgs = []\n",
    "        labels = []\n",
    "        \n",
    "        i = idx * self.batch_size\n",
    "        \n",
    "        while len(imgs) < self.batch_size:\n",
    "            file = self.file_list[i]\n",
    "            \n",
    "            level = get_level(file, df)\n",
    "            if level is None:\n",
    "                print(\"missing level: \" + file)\n",
    "                i += 1\n",
    "                continue\n",
    "            \n",
    "            img = cv2.imread(file)\n",
    "            img = cv2.resize(img,(img_height,img_width))\n",
    "            \n",
    "            if img is not None:\n",
    "                imgs.append(img)\n",
    "                labels.append(get_onehot(level))\n",
    "                #class_weights = get_class_weights(current_epoch)\n",
    "\n",
    "            i += 1\n",
    "\n",
    "        # Image augmentation\n",
    "        if self.augment:\n",
    "            imgs = seq.augment_images(imgs)\n",
    "\n",
    "        return np.asarray(imgs).astype(np.float16), np.asarray(labels).astype(np.int8)"
   ]
  },
  {
   "cell_type": "code",
   "execution_count": 3,
   "metadata": {},
   "outputs": [
    {
     "name": "stdout",
     "output_type": "stream",
     "text": [
      "_________________________________________________________________\n",
      "Layer (type)                 Output Shape              Param #   \n",
      "=================================================================\n",
      "input_1 (InputLayer)         (None, 299, 299, 3)       0         \n",
      "_________________________________________________________________\n",
      "batch_normalization_95 (Batc (None, 299, 299, 3)       12        \n",
      "_________________________________________________________________\n",
      "inception_v3 (Model)         (None, 8, 8, 2048)        21802784  \n",
      "_________________________________________________________________\n",
      "global_average_pooling2d_1 ( (None, 2048)              0         \n",
      "_________________________________________________________________\n",
      "dropout_1 (Dropout)          (None, 2048)              0         \n",
      "_________________________________________________________________\n",
      "dense_1 (Dense)              (None, 5)                 10245     \n",
      "=================================================================\n",
      "Total params: 21,813,041\n",
      "Trainable params: 21,778,603\n",
      "Non-trainable params: 34,438\n",
      "_________________________________________________________________\n"
     ]
    }
   ],
   "source": [
    "from keras.models import Model\n",
    "from keras.optimizers import Adam\n",
    "from keras.applications.inception_v3 import InceptionV3\n",
    "from keras.layers import Dense, Input, Flatten, Dropout, GlobalAveragePooling2D\n",
    "from keras.layers.normalization import BatchNormalization\n",
    "from keras.callbacks import ModelCheckpoint, EarlyStopping, ReduceLROnPlateau\n",
    "\n",
    "img_channels = 3\n",
    "img_dim = (img_height, img_width, img_channels)\n",
    "from datetime import datetime as dt\n",
    "def get_experiment_id():\n",
    "    time_str = dt.now().strftime('%Y-%m-%d-%H-%M-%S')\n",
    "    experiment_id = 'inceptin_{}'.format(time_str)\n",
    "\n",
    "    return experiment_id\n",
    "def inceptionv3(img_dim=img_dim):\n",
    "    input_tensor = Input(shape=img_dim)\n",
    "    base_model = InceptionV3(include_top=False,\n",
    "                   weights='imagenet',\n",
    "                   input_shape=img_dim)\n",
    "    bn = BatchNormalization()(input_tensor)\n",
    "    x = base_model(bn)\n",
    "    x = GlobalAveragePooling2D()(x)\n",
    "    x = Dropout(0.5)(x)\n",
    "    output = Dense(5, activation='softmax')(x)\n",
    "    model = Model(input_tensor, output)\n",
    "    return model\n",
    "\n",
    "model = inceptionv3()\n",
    "model.summary()"
   ]
  },
  {
   "cell_type": "code",
   "execution_count": 4,
   "metadata": {
    "collapsed": true
   },
   "outputs": [],
   "source": [
    "train_files = glob(os.path.join(preprocess_path, \"train/*jpeg\"))\n",
    "n_val_files = len(train_files) // 10\n",
    "val_file_list = train_files[:n_val_files]\n",
    "train_file_list = train_files[n_val_files:]"
   ]
  },
  {
   "cell_type": "code",
   "execution_count": null,
   "metadata": {
    "collapsed": true
   },
   "outputs": [],
   "source": [
    "import os\n",
    "os.environ[\"CUDA_VISIBLE_DEVICES\"]=\"0\""
   ]
  },
  {
   "cell_type": "code",
   "execution_count": 5,
   "metadata": {},
   "outputs": [
    {
     "data": {
      "text/plain": [
       "'inceptionV3_Nov-06-17-10:19:09'"
      ]
     },
     "execution_count": 5,
     "metadata": {},
     "output_type": "execute_result"
    }
   ],
   "source": [
    "import datetime\n",
    "def get_experiment_id():\n",
    "    time_str = datetime.datetime.now().strftime('%b-%d-%y-%H:%M:%S')\n",
    "    experiment_id = 'inceptionV3_{}'.format(time_str)\n",
    "\n",
    "    return experiment_id\n",
    "get_experiment_id()\n"
   ]
  },
  {
   "cell_type": "code",
   "execution_count": 6,
   "metadata": {
    "collapsed": true
   },
   "outputs": [],
   "source": [
    "from keras.utils import multi_gpu_model\n",
    "\n",
    "# Replicates `model` on 8 GPUs.\n",
    "# This assumes that your machine has 8 available GPUs.\n",
    "parallel_model = multi_gpu_model(model, gpus=8)"
   ]
  },
  {
   "cell_type": "code",
   "execution_count": null,
   "metadata": {
    "collapsed": true
   },
   "outputs": [],
   "source": [
    "parallel_model.compile(loss='categorical_crossentropy',\n",
    "                       optimizer='rmsprop')\n",
    "\n",
    "# This `fit` call will be distributed on 8 GPUs.\n",
    "# Since the batch size is 256, each GPU will process 32 samples.\n",
    "parallel_model.fit(x, y, epochs=20, batch_size=256)"
   ]
  },
  {
   "cell_type": "code",
   "execution_count": 5,
   "metadata": {
    "scrolled": true
   },
   "outputs": [
    {
     "name": "stdout",
     "output_type": "stream",
     "text": [
      "Epoch 1/50\n",
      "1420/1421 [============================>.] - ETA: 0s - loss: 0.7124 - acc: 0.7673Epoch 00001: val_loss improved from inf to 0.77561, saving model to inceptionV3_sgd.hdf5\n",
      "1421/1421 [==============================] - 450s 317ms/step - loss: 0.7123 - acc: 0.7673 - val_loss: 0.7756 - val_acc: 0.7619\n",
      "Epoch 2/50\n",
      "1420/1421 [============================>.] - ETA: 0s - loss: 0.6152 - acc: 0.8018Epoch 00002: val_loss improved from 0.77561 to 0.59682, saving model to inceptionV3_sgd.hdf5\n",
      "1421/1421 [==============================] - 435s 306ms/step - loss: 0.6153 - acc: 0.8017 - val_loss: 0.5968 - val_acc: 0.8069\n",
      "Epoch 3/50\n",
      "1420/1421 [============================>.] - ETA: 0s - loss: 0.5796 - acc: 0.8126Epoch 00003: val_loss did not improve\n",
      "1421/1421 [==============================] - 435s 306ms/step - loss: 0.5795 - acc: 0.8126 - val_loss: 0.6014 - val_acc: 0.8061\n",
      "Epoch 4/50\n",
      "1420/1421 [============================>.] - ETA: 0s - loss: 0.5585 - acc: 0.8201Epoch 00004: val_loss did not improve\n",
      "1421/1421 [==============================] - 435s 306ms/step - loss: 0.5585 - acc: 0.8201 - val_loss: 0.6059 - val_acc: 0.7970\n",
      "Epoch 5/50\n",
      "1420/1421 [============================>.] - ETA: 0s - loss: 0.5379 - acc: 0.8261Epoch 00005: val_loss improved from 0.59682 to 0.57541, saving model to inceptionV3_sgd.hdf5\n",
      "1421/1421 [==============================] - 436s 307ms/step - loss: 0.5380 - acc: 0.8260 - val_loss: 0.5754 - val_acc: 0.8221\n",
      "Epoch 6/50\n",
      "1420/1421 [============================>.] - ETA: 0s - loss: 0.5259 - acc: 0.8303Epoch 00006: val_loss did not improve\n",
      "1421/1421 [==============================] - 436s 307ms/step - loss: 0.5258 - acc: 0.8304 - val_loss: 0.6233 - val_acc: 0.8085\n",
      "Epoch 7/50\n",
      "1420/1421 [============================>.] - ETA: 0s - loss: 0.5118 - acc: 0.8339Epoch 00007: val_loss did not improve\n",
      "1421/1421 [==============================] - 435s 306ms/step - loss: 0.5116 - acc: 0.8340 - val_loss: 0.6533 - val_acc: 0.7930\n",
      "Epoch 8/50\n",
      "1420/1421 [============================>.] - ETA: 0s - loss: 0.5013 - acc: 0.8377Epoch 00008: val_loss improved from 0.57541 to 0.53675, saving model to inceptionV3_sgd.hdf5\n",
      "1421/1421 [==============================] - 435s 306ms/step - loss: 0.5012 - acc: 0.8377 - val_loss: 0.5368 - val_acc: 0.8276\n",
      "Epoch 9/50\n",
      "1420/1421 [============================>.] - ETA: 0s - loss: 0.4938 - acc: 0.8377Epoch 00009: val_loss did not improve\n",
      "1421/1421 [==============================] - 433s 305ms/step - loss: 0.4935 - acc: 0.8378 - val_loss: 0.5475 - val_acc: 0.8217\n",
      "Epoch 10/50\n",
      "1420/1421 [============================>.] - ETA: 0s - loss: 0.4811 - acc: 0.8408Epoch 00010: val_loss did not improve\n",
      "1421/1421 [==============================] - 435s 306ms/step - loss: 0.4812 - acc: 0.8408 - val_loss: 0.5968 - val_acc: 0.8153\n",
      "Epoch 11/50\n",
      "1420/1421 [============================>.] - ETA: 0s - loss: 0.4730 - acc: 0.8438Epoch 00011: val_loss did not improve\n",
      "1421/1421 [==============================] - 436s 307ms/step - loss: 0.4730 - acc: 0.8438 - val_loss: 0.5598 - val_acc: 0.8232\n",
      "Epoch 12/50\n",
      "1420/1421 [============================>.] - ETA: 0s - loss: 0.4645 - acc: 0.8451Epoch 00012: val_loss did not improve\n",
      "1421/1421 [==============================] - 435s 306ms/step - loss: 0.4647 - acc: 0.8450 - val_loss: 1.8324 - val_acc: 0.3296\n",
      "Epoch 13/50\n",
      "1420/1421 [============================>.] - ETA: 0s - loss: 0.4552 - acc: 0.8477Epoch 00013: val_loss did not improve\n",
      "1421/1421 [==============================] - 436s 307ms/step - loss: 0.4553 - acc: 0.8477 - val_loss: 0.6029 - val_acc: 0.8185\n",
      "Epoch 14/50\n",
      "1420/1421 [============================>.] - ETA: 0s - loss: 0.4469 - acc: 0.8515Epoch 00014: val_loss did not improve\n",
      "1421/1421 [==============================] - 434s 306ms/step - loss: 0.4470 - acc: 0.8515 - val_loss: 0.5398 - val_acc: 0.8201\n",
      "Epoch 15/50\n",
      "1420/1421 [============================>.] - ETA: 0s - loss: 0.4367 - acc: 0.8536Epoch 00015: val_loss did not improve\n",
      "1421/1421 [==============================] - 434s 305ms/step - loss: 0.4368 - acc: 0.8536 - val_loss: 0.5534 - val_acc: 0.8328\n",
      "Epoch 16/50\n",
      "1420/1421 [============================>.] - ETA: 0s - loss: 0.4282 - acc: 0.8559Epoch 00016: val_loss did not improve\n",
      "1421/1421 [==============================] - 434s 306ms/step - loss: 0.4281 - acc: 0.8560 - val_loss: 0.5786 - val_acc: 0.8340\n",
      "Epoch 17/50\n",
      "1420/1421 [============================>.] - ETA: 0s - loss: 0.4195 - acc: 0.8581Epoch 00017: val_loss did not improve\n",
      "1421/1421 [==============================] - 434s 306ms/step - loss: 0.4195 - acc: 0.8581 - val_loss: 0.5593 - val_acc: 0.8328\n",
      "Epoch 18/50\n",
      "1420/1421 [============================>.] - ETA: 0s - loss: 0.4094 - acc: 0.8608Epoch 00018: val_loss did not improve\n",
      "1421/1421 [==============================] - 434s 305ms/step - loss: 0.4092 - acc: 0.8609 - val_loss: 0.5964 - val_acc: 0.8229\n",
      "Epoch 00018: early stopping\n"
     ]
    }
   ],
   "source": [
    "from keras.optimizers import SGD\n",
    "from keras.callbacks import EarlyStopping, ModelCheckpoint, ReduceLROnPlateau\n",
    "batch_size = 16\n",
    "\n",
    "train_gen = DataSequence(train_file_list, batch_size, augment=True)\n",
    "validate_gen = DataSequence(val_file_list, batch_size, augment=True)\n",
    "#use multigpu 8\n",
    "#model.compile(optimizer=Adam(lr=1e-4), loss='categorical_crossentropy', metrics = ['accuracy'])\n",
    "#parallel_model.compile(optimizer=Adam(lr=1e-4), loss='categorical_crossentropy', metrics = ['accuracy'])\n",
    "model.compile(loss='categorical_crossentropy', optimizer=SGD(lr=0.003, momentum=0.9, nesterov=True), metrics=['accuracy'])\n",
    "experiment_id = get_experiment_id()\n",
    "\n",
    "callbacks = [\n",
    "    EarlyStopping(monitor='val_loss', patience=10, verbose=1),\n",
    "    ModelCheckpoint(\"inceptionV3_sgd\"+\".hdf5\", monitor='val_loss', verbose=1, save_best_only=True, mode='auto'),\n",
    "    ReduceLROnPlateau(monitor='val_loss', factor=0.5, patience=10, verbose=1, mode='auto', epsilon=0.01, cooldown=0, min_lr=1e-6)\n",
    "]\n",
    "\n",
    "history = model.fit_generator(generator=train_gen, \n",
    "                              validation_data=validate_gen,\n",
    "                              steps_per_epoch=(len(train_gen)),\n",
    "                              validation_steps=len(validate_gen),\n",
    "                              verbose=1,\n",
    "                              epochs=50,\n",
    "                              callbacks=callbacks,\n",
    "                              workers=12, # recommend: number of cpu cores\n",
    "                              use_multiprocessing=True)"
   ]
  },
  {
   "cell_type": "code",
   "execution_count": null,
   "metadata": {
    "collapsed": true
   },
   "outputs": [],
   "source": []
  },
  {
   "cell_type": "code",
   "execution_count": 11,
   "metadata": {
    "collapsed": true
   },
   "outputs": [],
   "source": [
    "model.save(experiment_id + \"_final_model.hdf5\")"
   ]
  },
  {
   "cell_type": "code",
   "execution_count": 9,
   "metadata": {},
   "outputs": [
    {
     "data": {
      "image/png": "[encoded data removed]",
      "text/plain": [
       "<matplotlib.figure.Figure at 0x7fd3cfbf0748>"
      ]
     },
     "metadata": {},
     "output_type": "display_data"
    }
   ],
   "source": [
    "plt.plot(history.history['acc'])\n",
    "plt.plot(history.history['val_acc'])\n",
    "plt.title('accuracy')\n",
    "plt.xlabel('epoch')\n",
    "plt.legend(['acc', 'val_acc'], loc='upper left')\n",
    "plt.show()"
   ]
  },
  {
   "cell_type": "code",
   "execution_count": 10,
   "metadata": {},
   "outputs": [
    {
     "data": {
      "image/png": "[encoded data removed]",
      "text/plain": [
       "<matplotlib.figure.Figure at 0x7fd2a3d3d400>"
      ]
     },
     "metadata": {},
     "output_type": "display_data"
    }
   ],
   "source": [
    "plt.plot(history.history['loss'])\n",
    "plt.plot(history.history['val_loss'])\n",
    "plt.title('loss')\n",
    "plt.xlabel('epoch')\n",
    "plt.legend(['loss', 'val_loss'], loc='upper right')\n",
    "plt.show()"
   ]
  },
  {
   "cell_type": "code",
   "execution_count": 14,
   "metadata": {
    "scrolled": true
   },
   "outputs": [
    {
     "data": {
      "image/png": "[encoded data removed]",
      "text/plain": [
       "<matplotlib.figure.Figure at 0x7f4ccf4a5c18>"
      ]
     },
     "metadata": {},
     "output_type": "display_data"
    }
   ],
   "source": [
    "plt.plot(history.history['lr'])\n",
    "plt.title('Learning Rate')\n",
    "plt.xlabel('epoch')\n",
    "plt.show()"
   ]
  },
  {
   "cell_type": "code",
   "execution_count": 8,
   "metadata": {
    "collapsed": true
   },
   "outputs": [],
   "source": [
    "model.load_weights(\"inceptionV3_Nov-06-17-09:27:20-val_loss_checkpoint.hdf5\")"
   ]
  },
  {
   "cell_type": "code",
   "execution_count": 9,
   "metadata": {},
   "outputs": [
    {
     "name": "stdout",
     "output_type": "stream",
     "text": [
      "157/157 [==============================] - 66s 419ms/step\n"
     ]
    }
   ],
   "source": [
    "y_pred = model.predict_generator(validate_gen, len(validate_gen),verbose=1,workers=20)\n",
    "y_pred = np.argmax(y_pred, axis=1)"
   ]
  },
  {
   "cell_type": "code",
   "execution_count": 10,
   "metadata": {},
   "outputs": [
    {
     "data": {
      "text/plain": [
       "array([0, 0, 0, ..., 0, 0, 0])"
      ]
     },
     "execution_count": 10,
     "metadata": {},
     "output_type": "execute_result"
    }
   ],
   "source": [
    "y_pred"
   ]
  },
  {
   "cell_type": "code",
   "execution_count": 12,
   "metadata": {
    "collapsed": true
   },
   "outputs": [],
   "source": [
    "def flatten_list(l):\n",
    "    return [item for sublist in l for item in sublist]\n",
    "\n",
    "y_true = flatten_list([np.argmax(y_true, axis=1) for x, y_true in validate_gen])"
   ]
  },
  {
   "cell_type": "code",
   "execution_count": 13,
   "metadata": {},
   "outputs": [
    {
     "data": {
      "text/plain": [
       "0.82205414012738853"
      ]
     },
     "execution_count": 13,
     "metadata": {},
     "output_type": "execute_result"
    }
   ],
   "source": [
    "import numpy as np\n",
    "from sklearn import metrics\n",
    "metrics.accuracy_score(y_pred,y_true)"
   ]
  },
  {
   "cell_type": "code",
   "execution_count": 16,
   "metadata": {},
   "outputs": [
    {
     "data": {
      "text/plain": [
       "array([[1818,   16,   33,    0,    6],\n",
       "       [ 160,   11,   22,    0,    2],\n",
       "       [ 104,   15,  205,   14,    5],\n",
       "       [   3,    2,   41,   15,    4],\n",
       "       [   4,    0,    7,    4,   21]])"
      ]
     },
     "execution_count": 16,
     "metadata": {},
     "output_type": "execute_result"
    }
   ],
   "source": [
    "\n",
    "\n",
    "import pandas as pd\n",
    "import seaborn as sn\n",
    "from sklearn.metrics import confusion_matrix\n",
    "import matplotlib.pyplot as plt\n",
    "%matplotlib inline\n",
    "\n",
    "confusion_table = confusion_matrix(y_true, y_pred)\n",
    "confusion_table"
   ]
  },
  {
   "cell_type": "code",
   "execution_count": 17,
   "metadata": {
    "collapsed": true
   },
   "outputs": [],
   "source": [
    "y_p=[]\n",
    "y_t=[]\n",
    "for var in (y_pred):\n",
    "    if var>0:\n",
    "        y_p.append(1)\n",
    "    else:\n",
    "        y_p.append(0)\n",
    "for var in (y_true):\n",
    "    if var>0:\n",
    "        y_t.append(1)\n",
    "    else:\n",
    "        y_t.append(0)"
   ]
  },
  {
   "cell_type": "code",
   "execution_count": 18,
   "metadata": {
    "scrolled": true
   },
   "outputs": [
    {
     "data": {
      "image/png": "[encoded data removed]",
      "text/plain": [
       "<matplotlib.figure.Figure at 0x7f4cf45178d0>"
      ]
     },
     "metadata": {},
     "output_type": "display_data"
    }
   ],
   "source": [
    "c_table = confusion_matrix(y_t, y_p)\n",
    "normalized_cf_matrix= c_table / c_table.sum(axis=1, keepdims=True)\n",
    "df_cmx = pd.DataFrame(normalized_cf_matrix, index=[0, 1], columns=[0, 1])\n",
    "plt.figure(figsize = (10,6))\n",
    "sn.set(font_scale=1.5)\n",
    "ax = sn.heatmap(df_cmx, annot=True, cmap='Oranges', fmt='.0%')\n",
    "ax.set_ylabel('y_true')\n",
    "ax.set_xlabel('y_pred')\n",
    "plt.show()"
   ]
  },
  {
   "cell_type": "code",
   "execution_count": 12,
   "metadata": {},
   "outputs": [
    {
     "name": "stdout",
     "output_type": "stream",
     "text": [
      "_________________________________________________________________\n",
      "Layer (type)                 Output Shape              Param #   \n",
      "=================================================================\n",
      "input_8 (InputLayer)         (None, 299, 299, 3)       0         \n",
      "_________________________________________________________________\n",
      "batch_normalization_104 (Bat (None, 299, 299, 3)       12        \n",
      "_________________________________________________________________\n",
      "xception (Model)             (None, 10, 10, 2048)      20861480  \n",
      "_________________________________________________________________\n",
      "global_average_pooling2d_2 ( (None, 2048)              0         \n",
      "_________________________________________________________________\n",
      "dropout_2 (Dropout)          (None, 2048)              0         \n",
      "_________________________________________________________________\n",
      "dense_2 (Dense)              (None, 5)                 10245     \n",
      "=================================================================\n",
      "Total params: 20,871,737\n",
      "Trainable params: 20,817,203\n",
      "Non-trainable params: 54,534\n",
      "_________________________________________________________________\n"
     ]
    }
   ],
   "source": [
    "from keras.models import Model\n",
    "from keras.optimizers import Adam\n",
    "from keras.applications.inception_v3 import InceptionV3\n",
    "from keras.applications import Xception, InceptionV3\n",
    "\n",
    "from keras.layers import Dense, Input, Flatten, Dropout, GlobalAveragePooling2D\n",
    "from keras.layers.normalization import BatchNormalization\n",
    "from keras.callbacks import ModelCheckpoint, EarlyStopping, ReduceLROnPlateau\n",
    "def xception(img_dim=img_dim):\n",
    "    input_tensor = Input(shape=img_dim)\n",
    "    base_model = Xception(include_top=False,\n",
    "                          weights=None,\n",
    "                   input_shape=img_dim)\n",
    "    bn = BatchNormalization()(input_tensor)\n",
    "    x = base_model(bn)\n",
    "    x = GlobalAveragePooling2D()(x)\n",
    "    x = Dropout(0.5)(x)\n",
    "    output = Dense(5, activation='softmax')(x)\n",
    "    model = Model(input_tensor, output)\n",
    "    return model\n",
    "\n",
    "model = xception()\n",
    "model.summary()"
   ]
  },
  {
   "cell_type": "markdown",
   "metadata": {},
   "source": [
    "## load weight"
   ]
  }
 ],
 "metadata": {
  "kernelspec": {
   "display_name": "Python 3",
   "language": "python",
   "name": "python3"
  },
  "language_info": {
   "codemirror_mode": {
    "name": "ipython",
    "version": 3
   },
   "file_extension": ".py",
   "mimetype": "text/x-python",
   "name": "python",
   "nbconvert_exporter": "python",
   "pygments_lexer": "ipython3",
   "version": "3.6.3"
  }
 },
 "nbformat": 4,
 "nbformat_minor": 2
}
